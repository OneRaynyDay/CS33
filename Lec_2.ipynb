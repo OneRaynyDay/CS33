{
 "cells": [
  {
   "cell_type": "markdown",
   "metadata": {},
   "source": [
    "# Machine Programming Basics #"
   ]
  },
  {
   "cell_type": "markdown",
   "metadata": {},
   "source": [
    "Nowadays, there are Intel x86 processors that dominate the tech market.\n",
    "\n",
    "## Evolutionary Design ##\n",
    "- Backwards Compatibility\n",
    "    - Adds more featuers as time goes on\n",
    "\n",
    "## Complex instruction set computer (CISC) ##\n",
    "- Many different instructions w/ different formats\n",
    "- Hard to match performance of Reduced Instruction Set Computers(RISC)\n",
    "    - But somehow intel was able to do it!"
   ]
  },
  {
   "cell_type": "markdown",
   "metadata": {},
   "source": [
    "## Vocabulary ##\n",
    "\n",
    "### Architecture ###\n",
    "- The parts of the processor design that one needs to write machine/assembly code\n",
    "\n",
    "### Microarchitecture ###\n",
    "- Implementation of architecture (cache size, core frequency, etc)\n",
    "\n",
    "### Code Forms ###\n",
    "- Machine code: Byte-level programs that a processor executes\n",
    "- Assembly code: A text representation of machine code\n",
    "\n",
    "Q: You have a CPU <---> MEMORY, where is the instruction stored?\n",
    "A: In memory, there's a text segment inside of the memory where it has the instructions!\n",
    "\n",
    "This memory not only holds data but also **holds the program itself**."
   ]
  },
  {
   "cell_type": "markdown",
   "metadata": {},
   "source": [
    "## Assembly/Machine Code View ##\n",
    "- CPU grabs instructions from the memory and then executes it in the CPU.\n",
    "    - When running the program, data is coming in and out of the CPU and memory.\n",
    "    "
   ]
  },
  {
   "cell_type": "markdown",
   "metadata": {},
   "source": [
    "## Turning C into Object Code ##\n",
    "Code in files p1.c p2.c\n",
    "{text} C program ->\n",
    "\n",
    "{text} ASM Program (p1.s, p2.s) -> \n",
    "\n",
    "{binary} Object program (p1.o, p2.o) -> \n",
    "\n",
    "{binary} Executable program(p) [Also uses some static/dynamic libraries already linked]"
   ]
  },
  {
   "cell_type": "markdown",
   "metadata": {},
   "source": [
    "## Compiling into Assembly ##"
   ]
  },
  {
   "cell_type": "code",
   "execution_count": 1,
   "metadata": {
    "collapsed": true
   },
   "outputs": [
    {
     "ename": "SyntaxError",
     "evalue": "invalid syntax (<ipython-input-1-29b114a071b8>, line 1)",
     "output_type": "error",
     "traceback": [
      "\u001b[0;36m  File \u001b[0;32m\"<ipython-input-1-29b114a071b8>\"\u001b[0;36m, line \u001b[0;32m1\u001b[0m\n\u001b[0;31m    long plus(long x, long y);\u001b[0m\n\u001b[0m            ^\u001b[0m\n\u001b[0;31mSyntaxError\u001b[0m\u001b[0;31m:\u001b[0m invalid syntax\n"
     ]
    }
   ],
   "source": [
    "# C code\n",
    "long plus(long x, long y);\n",
    "void func(...){\n",
    "    long t = plus(x,y);\n",
    "    *dest = t;\n",
    "}"
   ]
  },
  {
   "cell_type": "code",
   "execution_count": 2,
   "metadata": {
    "collapsed": true
   },
   "outputs": [
    {
     "ename": "SyntaxError",
     "evalue": "invalid syntax (<ipython-input-2-0dd27434aae0>, line 2)",
     "output_type": "error",
     "traceback": [
      "\u001b[0;36m  File \u001b[0;32m\"<ipython-input-2-0dd27434aae0>\"\u001b[0;36m, line \u001b[0;32m2\u001b[0m\n\u001b[0;31m    func:\u001b[0m\n\u001b[0m        ^\u001b[0m\n\u001b[0;31mSyntaxError\u001b[0m\u001b[0;31m:\u001b[0m invalid syntax\n"
     ]
    }
   ],
   "source": [
    "# Into Assembly\n",
    "func:\n",
    "    push %rbx\n",
    "    pull %rbx\n",
    "    ...\n",
    "''' BTW, theres a special stack pointer % called %rsp '''"
   ]
  },
  {
   "cell_type": "code",
   "execution_count": 3,
   "metadata": {
    "collapsed": true
   },
   "outputs": [
    {
     "ename": "IndentationError",
     "evalue": "unexpected indent (<ipython-input-3-9d7c5c664c97>, line 3)",
     "output_type": "error",
     "traceback": [
      "\u001b[0;36m  File \u001b[0;32m\"<ipython-input-3-9d7c5c664c97>\"\u001b[0;36m, line \u001b[0;32m3\u001b[0m\n\u001b[0;31m    0x53\u001b[0m\n\u001b[0m    ^\u001b[0m\n\u001b[0;31mIndentationError\u001b[0m\u001b[0;31m:\u001b[0m unexpected indent\n"
     ]
    }
   ],
   "source": [
    "# Into Object Code\n",
    "0x04000595\n",
    "    0x53\n",
    "    0x48\n",
    "    0x89\n",
    "    0xd3\n",
    "    ..."
   ]
  },
  {
   "cell_type": "markdown",
   "metadata": {},
   "source": [
    "### Operand Types###\n",
    "\n",
    "**Intermediate** : Constant integer data. Format is {dollar sign}hexadecimal\n",
    "\n",
    "**Register** : One of 16 integer registers. Format is %rax, %r13.\n",
    "\n",
    "**Memory** : 8 consecutive bytes of memory at address given **by the register**. Format is (%rax), which means address at the given %rax register. The %rax contains a number like 0x400, which holds the address of the memory, which is where the value is.\n",
    "\n",
    "Therefore, what we do is, we READ the register for the MEMORY ADDRESS. The object or whatever is INSIDE the memory. It's NOT inside the registers."
   ]
  },
  {
   "cell_type": "markdown",
   "metadata": {},
   "source": [
    "## Example ##\n",
    "\n",
    "**Intermediate example**\n",
    "\n",
    "Destination: Register : {movq $0x4, %rax} <-> {temp = 0x4}\n",
    "\n",
    "Destination: Memory : {movq $0x4, (%rax)} <-> {*temp = -147}\n",
    "\n",
    "**Register example**\n",
    "\n",
    "Destination: Register : {movq %rax, %rdx} <-> {temp2 = temp1}\n",
    "\n",
    "Destination: Memory : {movq %rax, (%rdx)} <-> {*temp1 = temp2}\n",
    "\n",
    "**Memory example**\n",
    "\n",
    "Destination: Memory : {movq (%rax), %rdx} <-> {temp = *p}\n"
   ]
  },
  {
   "cell_type": "markdown",
   "metadata": {},
   "source": [
    "## Simple Memory Addressing Modes ##\n",
    "\n",
    "### Normal ###\n",
    "- Register R specifies memory address\n",
    "- Pointer dereferencing in C : movq (%rcx),%rax . Syntax : (R), Mem[Reg[R]]\n",
    "\n",
    "### Displacement ###\n",
    "- Register R specifies start of memory region\n",
    "- Constant displacement D specifies offset\n",
    "- Pointer dereferencing in C : movq 8(%rdp),%rdx . Syntax : D(R), Mem[Reg[R]+D]"
   ]
  },
  {
   "cell_type": "markdown",
   "metadata": {
    "collapsed": true
   },
   "source": [
    "## Tricky operator : leaq ##\n",
    "Compare next to movq:\n",
    "\n",
    "temp = 500\n",
    "\n",
    "value at temp = 619\n",
    "\n",
    "- movq (%rax), %rdx : x = *temp , where *temp is the value at the address. \n",
    "    - Evaluate : x = 619\n",
    "- leaq (%rax), %rdx : x = temp , temp is the value OF the address\n",
    "    - Evaluate : x = 500\n",
    "    \n",
    "## Why use leaq? ##\n",
    "- If you wanted to do 300+500(temp)*3, then you would have to have a addq, imulq, then a movq's for the operations.\n",
    "- If you used leaq, you could just do (300, temp, 3) which does the arithmetics for you.\n"
   ]
  },
  {
   "cell_type": "code",
   "execution_count": null,
   "metadata": {
    "collapsed": true
   },
   "outputs": [],
   "source": []
  }
 ],
 "metadata": {
  "kernelspec": {
   "display_name": "Python 3",
   "language": "python",
   "name": "python3"
  },
  "language_info": {
   "codemirror_mode": {
    "name": "ipython",
    "version": 3
   },
   "file_extension": ".py",
   "mimetype": "text/x-python",
   "name": "python",
   "nbconvert_exporter": "python",
   "pygments_lexer": "ipython3",
   "version": "3.5.1"
  }
 },
 "nbformat": 4,
 "nbformat_minor": 0
}
