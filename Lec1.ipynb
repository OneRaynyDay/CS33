{
 "cells": [
  {
   "cell_type": "markdown",
   "metadata": {},
   "source": [
    "# CS 33 Lecture March 30, 2015 #"
   ]
  },
  {
   "cell_type": "markdown",
   "metadata": {},
   "source": [
    "## Integers: Addition, negation, multiplication, shifting ##"
   ]
  },
  {
   "cell_type": "markdown",
   "metadata": {},
   "source": [
    "**Unsigned addition**\n",
    "Operands: w bits\n",
    "True sum: w+1 bits\n",
    "Discard Carry: w bits\n",
    "\n",
    "In the worst case, you need **w+1 bit to hold a w bit number added by another w bit number.**"
   ]
  },
  {
   "cell_type": "markdown",
   "metadata": {},
   "source": [
    "**Modular arithmetic:**\n",
    "\n",
    "- For any possible u, v of size w bit number, when you add numbers, you get **OVERFLOW when the integers are too big of size**.\n",
    "\n",
    "Visualization: <img src=\"overflow.png\">"
   ]
  },
  {
   "cell_type": "markdown",
   "metadata": {},
   "source": [
    "## Two's complement addition: ##"
   ]
  },
  {
   "cell_type": "code",
   "execution_count": null,
   "metadata": {
    "collapsed": false
   },
   "outputs": [],
   "source": [
    "int s, t, u, v;\n",
    "s = (int)((unsigned) u + (unsigned) v);\n",
    "t = u+v\n",
    "# Will give s == t"
   ]
  },
  {
   "cell_type": "markdown",
   "metadata": {},
   "source": [
    "When you overflow in 2's complement, you get overflow in both negative and positive directions. \n",
    "\n",
    "- If $ sum >= 2^{w-1} $\n",
    "    - becomes negative\n",
    "- If $ sum < -w^{w-1} $\n",
    "    - becomes positive"
   ]
  },
  {
   "cell_type": "markdown",
   "metadata": {},
   "source": [
    "## Multiplication ##"
   ]
  },
  {
   "cell_type": "markdown",
   "metadata": {},
   "source": [
    "Goal: Computing product of w-bit numbers x, y\n",
    "    - Either signed or unsigned\n",
    "\n",
    "But, exact results can be bigger than w bits. It can be 2w. We will discard w bits at most.\n",
    "\n",
    "Result range: $$ 0 <= x * y <= (2^{w-1}-1) $$\n",
    "\n",
    "Power of 2 multiplication with shift shown below:"
   ]
  },
  {
   "cell_type": "code",
   "execution_count": null,
   "metadata": {
    "collapsed": false
   },
   "outputs": [],
   "source": [
    "# Visualization\n",
    "bits : 10010 = 2^1 + 2^4 = 18\n",
    "bits << 1 : 100100 = 2^2 + 2^5 = 36\n",
    "\n",
    "# Everytime you multiply by 2 you're shifting by 1. Same intuition as if you shifted 1 in base 10's representation.\n",
    "bitsInBase10 : 18\n",
    "bits << 1 : 180 # 10 times! Because we're using base 10 here!\n",
    "    \n",
    "# You can do Power-of-2 multiply with shift!\n",
    "(u << 5) - (u << 3) == u * 24\n",
    "# 2^5 - 2^3 = 24. Most machines will do this for you!\n",
    "\n",
    "# HOWEVER...\n",
    "multiply = 24\n",
    "u *= multiply # DYNAMIC optimization will NOT turn it into bit-shifting for you!\n",
    "# How does the machine know what value the multiply contains during run-time?"
   ]
  },
  {
   "cell_type": "markdown",
   "metadata": {},
   "source": [
    "## Why should I use unsigned? ##"
   ]
  },
  {
   "cell_type": "code",
   "execution_count": 4,
   "metadata": {
    "collapsed": false
   },
   "outputs": [
    {
     "ename": "SyntaxError",
     "evalue": "invalid syntax (<ipython-input-4-47ae82f4a85e>, line 1)",
     "output_type": "error",
     "traceback": [
      "\u001b[0;36m  File \u001b[0;32m\"<ipython-input-4-47ae82f4a85e>\"\u001b[0;36m, line \u001b[0;32m1\u001b[0m\n\u001b[0;31m    unsigned i;\u001b[0m\n\u001b[0m             ^\u001b[0m\n\u001b[0;31mSyntaxError\u001b[0m\u001b[0;31m:\u001b[0m invalid syntax\n"
     ]
    }
   ],
   "source": [
    "unsigned i;\n",
    "for(i = cnt-2; i>= 0; i--) # There is no unsigned value that is less than 0! This comparison will ALWAYS be true.\n",
    "    a[i] += a[i+1]; # Therefore, infinite loop!"
   ]
  },
  {
   "cell_type": "markdown",
   "metadata": {},
   "source": [
    "Don't use it without understanding implications! Note: int gets casted to unsigned when you mix them in arithmetics!"
   ]
  },
  {
   "cell_type": "markdown",
   "metadata": {},
   "source": [
    "**Memory management** : Memory is stored in a 2^32 byte array. Each elememnt of the array holds 1 byte. Each byte holds 8 bits. Using 3 bits, we can say the address of a 1 byte element. \n",
    "\n",
    "000(0)  \n",
    "001(1)\n",
    "010(2)\n",
    "...\n",
    "Up to 111(8)\n",
    "\n",
    "We can address 8 bytes with 3 bits here.\n",
    "We need space for addressing each part of memory here."
   ]
  },
  {
   "cell_type": "markdown",
   "metadata": {},
   "source": [
    "**Machine Words**\n",
    "\n",
    "Any given computer has a word size:\n",
    "32-bit words has jumps of 4.\n",
    "64-bit words have jumps of 8.\n",
    "Each address that is contained is then...\n",
    "- for 32-bit: 0, 4, 8, 12... (in decimal instead of hex)\n",
    "    - This is why it's called 32-bit. Because it reads 32 bits at once for 1 address. (32-bit = 4 bytes)\n",
    "- for 64-bit: 0, 8, 16..."
   ]
  },
  {
   "cell_type": "markdown",
   "metadata": {},
   "source": [
    "**Byte Ordering**\n",
    "\n",
    "How are bytes within a multi-byte word ordered in memory?\n",
    "Conventions:\n",
    "Big Endian: Least significant byte has highest address\n",
    "Little Endian: Least significant byte has lowest address\n",
    "\n",
    "Situation:\n",
    "\n",
    "Short(2 bytes):\n",
    "\n",
    "_10101001_\n",
    "\n",
    "_10011011_\n",
    "\n",
    "Big Endian:\n",
    "\n",
    "_1010100110011011_\n",
    "\n",
    "Little Endian:\n",
    "\n",
    "_1001101110101001_\n",
    "\n",
    "**Q : When we do a memory-dump, how do we know when it's little endian or big endian?**\n",
    "Good question! We don't know, but \n",
    "\n",
    "Big Endian for: Sun, PPC Mac, Internet\n",
    "\n",
    "Little Endian for: x86, ARM processors running Android, iOS, Windows"
   ]
  },
  {
   "cell_type": "markdown",
   "metadata": {
    "collapsed": true
   },
   "source": [
    "Tricky Gotchas:\n",
    "Given: Prove:\n",
    "x < 0 --> (x*2) < 0\n",
    "Not true because of overflow!\n",
    "\n",
    "ux >= 0\n",
    "True\n",
    "\n",
    "x & 7 == 7\n",
    "Not true. Only true for numbers whose bits start with ...111 (7)\n",
    "\n",
    "ux > -1\n",
    "Not true. In this \"comparison\", -1 is casted to the max value of unsigned. Nothing is greater than unsigned(-1)\n",
    "\n",
    "x > y --> -x < -y\n",
    "Not true. Negative numbers have 1 extra number due to 2's complement. When you cast to positive it overflows.\n",
    "\n",
    "x >= 0 --> -x <= 0\n",
    "True.\n",
    "\n",
    "x <= 0 --> -x >= 0\n",
    "Not true. Could overflow from that 1 extra number.\n",
    "\n",
    "(x|-x) >> 31 == -1\n",
    "If you have an integer, and you shift, you have arithmetic. If you have unsigned, and you shift, you have logical shift.\n",
    "Not true, the very last number might NOT be a 1. \n",
    "Example: try with this.\n",
    "01100110\n",
    "11011000\n",
    "\n",
    "(x|~x) >> 31 == -1\n",
    "True. Every bit where it's 0 is now 1.\n",
    "\n",
    "x >> 3 == x/8\n",
    "True.\n",
    "\n",
    "x & (x-1) != 0\n",
    "Not true. \n",
    "if X is 0:\n",
    "000000\n",
    "Subtract by 1 gets you:\n",
    "111111\n",
    "When you & them it becomes:\n",
    "000000\n",
    "\n"
   ]
  }
 ],
 "metadata": {
  "kernelspec": {
   "display_name": "Python 3",
   "language": "python",
   "name": "python3"
  },
  "language_info": {
   "codemirror_mode": {
    "name": "ipython",
    "version": 3
   },
   "file_extension": ".py",
   "mimetype": "text/x-python",
   "name": "python",
   "nbconvert_exporter": "python",
   "pygments_lexer": "ipython3",
   "version": "3.5.1"
  }
 },
 "nbformat": 4,
 "nbformat_minor": 0
}
