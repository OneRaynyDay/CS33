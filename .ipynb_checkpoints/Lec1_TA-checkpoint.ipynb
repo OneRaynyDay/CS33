{
 "cells": [
  {
   "cell_type": "markdown",
   "metadata": {},
   "source": [
    "# CS33 TA lecture 1"
   ]
  },
  {
   "cell_type": "markdown",
   "metadata": {},
   "source": [
    "## Some basic binary stuff: ##\n",
    "\n",
    "$9_{10} = 1001_{2}= 0x9_{16}$\n",
    "\n",
    "$35_{10} = 100011_{2}= 0x23_{16}$\n",
    "\n"
   ]
  },
  {
   "cell_type": "markdown",
   "metadata": {},
   "source": [
    "## Two's Complement ##\n",
    "\n",
    "### To represent Unsigned: ###\n",
    "$ 1111 = 2^{0} + 2^{1} + .. + 2^{3} = 1 + 2 + 4 + 8 = 16 $\n",
    "\n",
    "### One's complement: ###\n",
    "\n",
    "$ 1111 = -1 * (2^{0} + 2^{1} + 2^{2}) = 7 $\n",
    "\n",
    "It's not very good because:\n",
    "- It has 2 zero's (a positive zero 0000, and a negative zero 1000)\n",
    "- It has weird adding arithmetics (try 1100 (-4) + 0001 (1) = -3(?))\n",
    "\n",
    "Two's complement:\n",
    "\n",
    "It's just one's complement but the negatives are added by 1:\n",
    "-1 becomes 1111\n",
    "-2 becomes 1110\n",
    "\n",
    "### To change from two's complement negative to positive: ### \n",
    "-Flip the bits : ~num\n",
    "-Subtract by 1 : -=1\n",
    "\n",
    "1111 --> 0000 --> 0001 = 1"
   ]
  },
  {
   "cell_type": "markdown",
   "metadata": {},
   "source": [
    "## Puzzle Hints ##\n",
    "\n",
    "Operations that has to do with signed and unsigned numbers, the **signed always gets casted to unsigned**\n",
    "\n",
    "Number 3 = a signed integer 3\n",
    "\n",
    "Number 3U = an unsigned integer with the value 3\n",
    "\n",
    "Number -1U = 4294967295, an unsigned integer with the value MAX_UNSIGNED_INT"
   ]
  },
  {
   "cell_type": "markdown",
   "metadata": {},
   "source": [
    "## Bit-wise Operations ##\n",
    "\n",
    "|Bitwise|Logical|Difference\n",
    "|--|--------------------|-----------|\n",
    "|&|&&|Or's. 3&&-4 = 1, while 3&-4 = 0|\n",
    "|&#124;&#124;|&#124;|And's. 3&#124;&#124;-4 = 1, 3 &#124;-4 = 3|\n",
    "|~|!|Not-ing|\n",
    "|<<, >>| N/A|Bit-shifting|\n",
    "|^|N/A|Exclusive or|\n",
    "\n",
    "### Shifting ###\n",
    "-Logical vs Arithmetic (ONLY concerns right shift!)\n",
    "\n",
    "e.g. _case1_ : 0100 >> 2 = 0001\n",
    "\n",
    "e.g. _case2_ : 1100 >> 2 = 0011 for **logical**, 1111 for **Arithmetic**.\n",
    "\n",
    "Given $x >> n$\n",
    "\n",
    "These effectively mean $x * 2^{n}$ EXCEPT for when n < 0 or n > WORD_SIZE. Then it would be undefined behavior.\n",
    "\n"
   ]
  },
  {
   "cell_type": "markdown",
   "metadata": {},
   "source": [
    "## Big vs Little Endian ##\n",
    "\n",
    "Given : int my_int = 0x01234567\n",
    "### In Big Endian vs Little Endian: ###\n",
    "|Address|100|101|102|103|\n",
    "|-|---|---|---|---|\n",
    "|Big Endian|01|23|45|67|\n",
    "|Little Endian|67|45|23|01|\n",
    "\n",
    "However note that the pointer to the address is still in address 100."
   ]
  },
  {
   "cell_type": "markdown",
   "metadata": {
    "collapsed": true
   },
   "source": [
    "## Lab 0 ##\n",
    "\n",
    "We just want to do \n",
    "\n",
    "ezThreeFourths(int x):\n",
    "    return x*3/4\n",
    "    \n",
    "But only using bit manipulation:\n",
    "\n",
    "To multiply by 3:\n",
    "\n",
    "x + x + x\n",
    "\n",
    "x << 1 + x\n",
    "\n",
    "To divide by 4(This is the anal part):\n",
    "\n",
    "For positive numbers:\n",
    "x/4 = x >> 2\n",
    "For negative numbers:\n"
   ]
  }
 ],
 "metadata": {
  "kernelspec": {
   "display_name": "Python 3",
   "language": "python",
   "name": "python3"
  },
  "language_info": {
   "codemirror_mode": {
    "name": "ipython",
    "version": 3
   },
   "file_extension": ".py",
   "mimetype": "text/x-python",
   "name": "python",
   "nbconvert_exporter": "python",
   "pygments_lexer": "ipython3",
   "version": "3.5.1"
  }
 },
 "nbformat": 4,
 "nbformat_minor": 0
}
